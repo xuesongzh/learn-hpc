{
 "cells": [
  {
   "cell_type": "markdown",
   "id": "fa9c5b30",
   "metadata": {},
   "source": [
    "## 2023 CUDA on ARM夏令营考试\n",
    "\n",
    "----\n",
    "本次考试一共包含以下三个题目, 全部完成将通过考试:\n",
    "\n",
    "1.利用GPU完成任务: 将输入矩阵(3000\\*3000)的每一个大于100的值赋值为0, 并将修改后的矩阵放到输出矩阵中.  \n",
    "如: **if(in[i][j]>100) out[i][j] = 0; else out[i][j] = in[i][j];**\n",
    "\n",
    "2.利用GPU找出一列包含1000000个元素的数组的**最大的10个值**.\n",
    "\n",
    "3.利用GPU完成原地矩阵(3000\\*3000)转置操作:  \n",
    "要求:输入矩阵和输出矩阵在**同一存储空间内**, 不得另外申请空间. 要求计算时间: nano: 15ms以内 Xavier NX: 10ms以内"
   ]
  },
  {
   "cell_type": "code",
   "execution_count": 3,
   "id": "72a39199",
   "metadata": {},
   "outputs": [],
   "source": [
    "# 姓名"
   ]
  },
  {
   "cell_type": "code",
   "execution_count": 4,
   "id": "056d8ead",
   "metadata": {},
   "outputs": [],
   "source": [
    "!/usr/local/cuda/bin/nvcc 1.cu -o 1"
   ]
  },
  {
   "cell_type": "code",
   "execution_count": 5,
   "id": "2805e052",
   "metadata": {},
   "outputs": [
    {
     "name": "stdout",
     "output_type": "stream",
     "text": [
      "\n",
      "***********GPU RUN**************\n",
      "Time_GPU = 3.2297 ms.\n",
      "\n",
      "***********Check result**************\n",
      "Pass!!!\n"
     ]
    }
   ],
   "source": [
    "!./1"
   ]
  },
  {
   "cell_type": "code",
   "execution_count": 11,
   "id": "179977ff",
   "metadata": {},
   "outputs": [],
   "source": [
    "!/usr/local/cuda/bin/nvcc 2.cu -o 2"
   ]
  },
  {
   "cell_type": "code",
   "execution_count": 12,
   "id": "c2f6be74",
   "metadata": {},
   "outputs": [
    {
     "name": "stdout",
     "output_type": "stream",
     "text": [
      "Init source data...........\n",
      "Complete init source data.....\n",
      "GPU Run **************\n",
      "GPU Complete!!!\n",
      "CPU RUN***************\n",
      "CPU Complete!!!!!CPU top1: 2147483611; GPU top1: 2147483611;\n",
      "CPU top2: 2147483578; GPU top2: 2147483578;\n",
      "CPU top3: 2147483526; GPU top3: 2147483526;\n",
      "CPU top4: 2147483514; GPU top4: 2147483514;\n",
      "CPU top5: 2147483491; GPU top5: 2147483491;\n",
      "CPU top6: 2147483482; GPU top6: 2147483482;\n",
      "CPU top7: 2147483417; GPU top7: 2147483417;\n",
      "CPU top8: 2147483385; GPU top8: 2147483385;\n",
      "CPU top9: 2147483327; GPU top9: 2147483327;\n",
      "CPU top10: 2147483297; GPU top10: 2147483297;\n",
      "Result: Pass\n",
      "CPU time: 2714.52; GPU time: 95.64\n"
     ]
    }
   ],
   "source": [
    "!./2"
   ]
  },
  {
   "cell_type": "code",
   "execution_count": null,
   "id": "66da1d8a",
   "metadata": {},
   "outputs": [],
   "source": [
    "!/usr/local/cuda/bin/nvcc 3.cu -o 3"
   ]
  },
  {
   "cell_type": "code",
   "execution_count": 8,
   "id": "8e020620",
   "metadata": {},
   "outputs": [
    {
     "name": "stdout",
     "output_type": "stream",
     "text": [
      "Time_GPU = 2.16483 ms.\n",
      "Pass!!!\n"
     ]
    }
   ],
   "source": [
    "!./3"
   ]
  },
  {
   "cell_type": "code",
   "execution_count": null,
   "id": "d3ea0e7d",
   "metadata": {},
   "outputs": [],
   "source": []
  }
 ],
 "metadata": {
  "kernelspec": {
   "display_name": "Python 3",
   "language": "python",
   "name": "python3"
  },
  "language_info": {
   "codemirror_mode": {
    "name": "ipython",
    "version": 3
   },
   "file_extension": ".py",
   "mimetype": "text/x-python",
   "name": "python",
   "nbconvert_exporter": "python",
   "pygments_lexer": "ipython3",
   "version": "3.6.9"
  }
 },
 "nbformat": 4,
 "nbformat_minor": 5
}
