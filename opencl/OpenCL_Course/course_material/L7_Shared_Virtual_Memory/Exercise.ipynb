{
 "cells": [
  {
   "cell_type": "markdown",
   "id": "d6443b86-83d9-45b0-bebc-35d3a64d55da",
   "metadata": {
    "tags": []
   },
   "source": [
    "# Exercise - Hadamard matrix multiplication with SVM\n",
    "\n",
    "Hadamard matrix multiplication is where the values in matrices **D** and **E** at coordinates (i0,i1) are multiplied together to set the value at coordinates (i0,i1) in matrix **F**.\n",
    "\n",
    "<figure style=\"margin-left:auto; margin-right:auto; width:80%;\">\n",
    "    <img style=\"vertical-align:middle\" src=\"../images/elementwise_multiplication.svg\">\n",
    "    <figcaption style= \"text-align:lower; margin:1em; float:bottom; vertical-align:bottom;\">Elementwise multiplication of matrices D and E to get F.</figcaption>\n",
    "</figure>\n",
    "\n",
    "In this exercise we are going enable the elementwise matrix multiplication code to use fine-grained buffer Shared Virtual Memory (SVM). The source code to edit is located in [mat_elementwise_svm.cpp](mat_elementwise_svm.cpp) and the kernel is in [kernels_elementwise.c](kernels_elementwise.c). Matrices **D** and **E** are read in from disk and matrix **F** is produced as the output. Your task is to tool up this code so that the memory allocation for **matrix F** is using fine-grained buffer SVM."
   ]
  },
  {
   "cell_type": "markdown",
   "id": "21cb7458-be15-467d-8550-d43c5aa30bdb",
   "metadata": {},
   "source": [
    "## The problem\n",
    "\n",
    "The program to edit is [mat_elementwise_svm.cpp](mat_elementwise_svm.cpp). It runs fine, however matrix F is handled in the usual way. Memory for **F_h** is allocated on the host and **F_d** is allocated on the device. A kernel is run to compute **F_d** from **D_d** and **E_d** and **F_d** is copied back to **F_h** before writing to disk and checking for errors."
   ]
  },
  {
   "cell_type": "code",
   "execution_count": 1,
   "id": "06d4be13-9cfd-461e-b984-bab6a678c01e",
   "metadata": {},
   "outputs": [
    {
     "name": "stdout",
     "output_type": "stream",
     "text": [
      "make: 'mat_elementwise_svm.exe' is up to date.\n",
      "\t               name: gfx1035 \n",
      "\t     Device version: OpenCL 2.0  \n",
      "\t global memory size: 536 MB\n",
      "\t    max buffer size: 456 MB\n",
      "\t     max local size: (1024,1024,1024)\n",
      "\t     max work-items: 256\n",
      "The output array F_h (as computed with OpenCL) is\n",
      "----\n",
      "|  4.50e-01  1.70e-01  2.77e-01  2.21e-02 |\n",
      "|  2.46e-02  3.48e-02  4.41e-02  2.05e-01 |\n",
      "|  7.57e-01  4.06e-03  3.90e-01  2.74e-01 |\n",
      "|  3.16e-01  3.38e-05  9.45e-02  9.03e-01 |\n",
      "|  1.60e-02  6.24e-03  9.69e-02  4.00e-01 |\n",
      "|  4.89e-01  4.12e-01  8.46e-01  8.93e-02 |\n",
      "|  3.23e-01  3.19e-02  2.84e-01  4.18e-01 |\n",
      "|  2.02e-02  3.38e-01  2.30e-01  1.49e-01 |\n",
      "----\n",
      "The CPU solution (F_answer_h) is \n",
      "----\n",
      "|  4.50e-01  1.70e-01  2.77e-01  2.21e-02 |\n",
      "|  2.46e-02  3.48e-02  4.41e-02  2.05e-01 |\n",
      "|  7.57e-01  4.06e-03  3.90e-01  2.74e-01 |\n",
      "|  3.16e-01  3.38e-05  9.45e-02  9.03e-01 |\n",
      "|  1.60e-02  6.24e-03  9.69e-02  4.00e-01 |\n",
      "|  4.89e-01  4.12e-01  8.46e-01  8.93e-02 |\n",
      "|  3.23e-01  3.19e-02  2.84e-01  4.18e-01 |\n",
      "|  2.02e-02  3.38e-01  2.30e-01  1.49e-01 |\n",
      "----\n",
      "The residual (F_answer_h-F_h) is\n",
      "----\n",
      "|  0.00e+00  0.00e+00  0.00e+00  0.00e+00 |\n",
      "|  0.00e+00  0.00e+00  0.00e+00  0.00e+00 |\n",
      "|  0.00e+00  0.00e+00  0.00e+00  0.00e+00 |\n",
      "|  0.00e+00  0.00e+00  0.00e+00  0.00e+00 |\n",
      "|  0.00e+00  0.00e+00  0.00e+00  0.00e+00 |\n",
      "|  0.00e+00  0.00e+00  0.00e+00  0.00e+00 |\n",
      "|  0.00e+00  0.00e+00  0.00e+00  0.00e+00 |\n",
      "|  0.00e+00  0.00e+00  0.00e+00  0.00e+00 |\n",
      "----\n",
      "Maximum error (infinity norm) is: 0\n"
     ]
    }
   ],
   "source": [
    "!make mat_elementwise_svm.exe; ./mat_elementwise_svm.exe"
   ]
  },
  {
   "cell_type": "markdown",
   "id": "1bc77671-be5c-45b5-a314-1018218b275d",
   "metadata": {},
   "source": [
    "Your task is to make the necessary changes so that the kernel uses **F_svm**, a shared memory allocation on the host for matrix F that uses **fine-grained buffer SVM**. The sollution will eliminate the need for separate handling of **F_d** and **F_h**."
   ]
  },
  {
   "cell_type": "markdown",
   "id": "d91b193b-40d3-4742-acf9-3220ba6a344e",
   "metadata": {},
   "source": [
    "## Tasks\n",
    "\n",
    "1. Add a check so that the progam will crash out if the runtime is not capable of using CL_DEVICE_SVM_FINE_GRAIN_BUFFER (copy paste this from [mat_mult_fine_buffer_svm.cpp](mat_mult_fine_buffer_svm.cpp)).\n",
    "1. Allocate memory for **F_svm** using [clSVMAlloc](https://www.khronos.org/registry/OpenCL/sdk/3.0/docs/man/html/clSVMAlloc.html) instead. Don't forget the additional **CL_MEM_SVM_FINE_GRAIN_BUFFER** flag.\n",
    "1. Remove the code that creates a buffer for **F_d**.\n",
    "1. Remove all code that allocates and frees memory for **F_h**\n",
    "1. Replace clSetKernelArg with [clSetKernelArgSVMPointer](https://www.khronos.org/registry/OpenCL/sdk/3.0/docs/man/html/clSetKernelArgSVMPointer.html) for setting argument 2 in the kernel.\n",
    "1. Remove the read of **F_d** back to the host.\n",
    "1. Use **F_svm** everywhere instead of **F_h**.\n",
    "1. Remove the call to clReleaseMemObject for **F_d**.\n",
    "1. Use [clSVMFree](https://www.khronos.org/registry/OpenCL/sdk/3.0/docs/man/html/clSVMFree.html) to free memory for **F_svm**."
   ]
  },
  {
   "cell_type": "markdown",
   "id": "a51b538a-ff01-4b69-acf6-3b889e8437f2",
   "metadata": {},
   "source": [
    "## The answer\n",
    "\n",
    "You can of course always look at the answer in [mat_elementwise_svm_answer.cpp](mat_elementwise_svm_answer.cpp), but then try to understand how the solution is working."
   ]
  },
  {
   "cell_type": "code",
   "execution_count": 2,
   "id": "6c0e16c1-efd4-41a3-8a03-062a01234748",
   "metadata": {},
   "outputs": [
    {
     "name": "stdout",
     "output_type": "stream",
     "text": [
      "make: 'mat_elementwise_svm_answer.exe' is up to date.\n",
      "\t               name: AMD Ryzen 7 6800H with Radeon Graphics          \n",
      "\t     Device version: OpenCL 3.0 (Build 0) \n",
      "\t global memory size: 32865 MB\n",
      "\t    max buffer size: 16432 MB\n",
      "\t     max local size: (8192,8192,8192)\n",
      "\t     max work-items: 8192\n",
      "Device supports fine-grained buffer SVM\n",
      "The output array F_svm (as computed with OpenCL) is\n",
      "----\n",
      "|  4.50e-01  1.70e-01  2.77e-01  2.21e-02 |\n",
      "|  2.46e-02  3.48e-02  4.41e-02  2.05e-01 |\n",
      "|  7.57e-01  4.06e-03  3.90e-01  2.74e-01 |\n",
      "|  3.16e-01  3.38e-05  9.45e-02  9.03e-01 |\n",
      "|  1.60e-02  6.24e-03  9.69e-02  4.00e-01 |\n",
      "|  4.89e-01  4.12e-01  8.46e-01  8.93e-02 |\n",
      "|  3.23e-01  3.19e-02  2.84e-01  4.18e-01 |\n",
      "|  2.02e-02  3.38e-01  2.30e-01  1.49e-01 |\n",
      "----\n",
      "The CPU solution (F_answer_h) is \n",
      "----\n",
      "|  4.50e-01  1.70e-01  2.77e-01  2.21e-02 |\n",
      "|  2.46e-02  3.48e-02  4.41e-02  2.05e-01 |\n",
      "|  7.57e-01  4.06e-03  3.90e-01  2.74e-01 |\n",
      "|  3.16e-01  3.38e-05  9.45e-02  9.03e-01 |\n",
      "|  1.60e-02  6.24e-03  9.69e-02  4.00e-01 |\n",
      "|  4.89e-01  4.12e-01  8.46e-01  8.93e-02 |\n",
      "|  3.23e-01  3.19e-02  2.84e-01  4.18e-01 |\n",
      "|  2.02e-02  3.38e-01  2.30e-01  1.49e-01 |\n",
      "----\n",
      "The residual (F_answer_h-F_svm) is\n",
      "----\n",
      "|  0.00e+00  0.00e+00  0.00e+00  0.00e+00 |\n",
      "|  0.00e+00  0.00e+00  0.00e+00  0.00e+00 |\n",
      "|  0.00e+00  0.00e+00  0.00e+00  0.00e+00 |\n",
      "|  0.00e+00  0.00e+00  0.00e+00  0.00e+00 |\n",
      "|  0.00e+00  0.00e+00  0.00e+00  0.00e+00 |\n",
      "|  0.00e+00  0.00e+00  0.00e+00  0.00e+00 |\n",
      "|  0.00e+00  0.00e+00  0.00e+00  0.00e+00 |\n",
      "|  0.00e+00  0.00e+00  0.00e+00  0.00e+00 |\n",
      "----\n",
      "Maximum error (infinity norm) is: 0\n"
     ]
    }
   ],
   "source": [
    "!make mat_elementwise_svm_answer.exe; ./mat_elementwise_svm_answer.exe -cpu"
   ]
  },
  {
   "cell_type": "markdown",
   "id": "a9f57f74-5405-4f65-93e5-f6e0293c3edd",
   "metadata": {},
   "source": [
    "<address>\n",
    "Written by Dr. Toby Potter of <a href=\"https://www.pelagos-consulting.com\">Pelagos Consulting and Education</a> for the <a href=\"https://pawsey.org.au\">Pawsey Supercomputing Research Centre</a>. All trademarks mentioned are the property of their respective owners.\n",
    "</address>"
   ]
  }
 ],
 "metadata": {
  "kernelspec": {
   "display_name": "Python 3 (ipykernel)",
   "language": "python",
   "name": "python3"
  },
  "language_info": {
   "codemirror_mode": {
    "name": "ipython",
    "version": 3
   },
   "file_extension": ".py",
   "mimetype": "text/x-python",
   "name": "python",
   "nbconvert_exporter": "python",
   "pygments_lexer": "ipython3",
   "version": "3.10.9"
  }
 },
 "nbformat": 4,
 "nbformat_minor": 5
}
