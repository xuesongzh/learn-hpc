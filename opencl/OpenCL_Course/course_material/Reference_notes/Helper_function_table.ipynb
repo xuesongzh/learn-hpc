{
 "cells": [
  {
   "cell_type": "markdown",
   "id": "2f1df1a2-4088-4b9c-a8b5-ad0f2480c074",
   "metadata": {},
   "source": [
    "# Helper functions\n",
    "\n",
    "In this course we use helper functions from the files <a href=\"../include/cl_helper.hpp\">cl_helper.hpp</a> and <a href=\"../include/mat_helper.hpp\">mat_helper.hpp</a>. Documentation for each function in the file is available <a href=\"../include/docs/files.html\">here</a>, as well as in the table below."
   ]
  },
  {
   "cell_type": "code",
   "execution_count": 3,
   "id": "a7d964d2-861b-4183-8715-718edbcf408b",
   "metadata": {},
   "outputs": [
    {
     "data": {
      "text/html": [
       "\n",
       "        <iframe\n",
       "            width=\"100%\"\n",
       "            height=\"1024px\"\n",
       "            src=\"../include/docs/files.html\"\n",
       "            frameborder=\"0\"\n",
       "            allowfullscreen\n",
       "            \n",
       "        ></iframe>\n",
       "        "
      ],
      "text/plain": [
       "<IPython.lib.display.IFrame at 0x7f6a550b5ae0>"
      ]
     },
     "execution_count": 3,
     "metadata": {},
     "output_type": "execute_result"
    }
   ],
   "source": [
    "from IPython.display import IFrame\n",
    "IFrame(\"../include/docs/files.html\", width=\"100%\", height=\"1024px\")"
   ]
  },
  {
   "cell_type": "markdown",
   "id": "7cf0099e-9787-4f64-8235-3ed07b364073",
   "metadata": {},
   "source": [
    "<address>\n",
    "Written by Dr. Toby Potter of <a href=\"https://www.pelagos-consulting.com\">Pelagos Consulting and Education</a> for the Pawsey Supercomputing Centre\n",
    "</address>"
   ]
  }
 ],
 "metadata": {
  "kernelspec": {
   "display_name": "Python 3 (ipykernel)",
   "language": "python",
   "name": "python3"
  },
  "language_info": {
   "codemirror_mode": {
    "name": "ipython",
    "version": 3
   },
   "file_extension": ".py",
   "mimetype": "text/x-python",
   "name": "python",
   "nbconvert_exporter": "python",
   "pygments_lexer": "ipython3",
   "version": "3.10.9"
  }
 },
 "nbformat": 4,
 "nbformat_minor": 5
}
