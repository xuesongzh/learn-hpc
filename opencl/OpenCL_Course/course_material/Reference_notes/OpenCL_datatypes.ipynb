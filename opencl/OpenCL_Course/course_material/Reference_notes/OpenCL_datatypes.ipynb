{
 "cells": [
  {
   "cell_type": "markdown",
   "id": "07ae5e8c-c989-4d74-9e10-d30658ed4b78",
   "metadata": {},
   "source": [
    "# OpenCL data types\n",
    "\n",
    "We saw in the survival C++ course that some C datatypes are represented with a nominal number of bits, depending on the platform and operating system in use. Within OpenCL kernels, a particular C datatype always uses the same number of bits, however in the main program that same C datatype might use a different number of bits. This is a problem for OpenCL applications which promise a level of portability across implementations. In order to remedy this, the latest [OpenCL C specification](https://www.khronos.org/registry/OpenCL/specs/3.0-unified/pdf/OpenCL_C.pdf) has a number of standard data types for fixing the number of bits used, and maintaining consistency with the number of bits used for types in the kernel. As follows is a number of commonly used OpenCL data types and how many bits they use. It is **good practice** to use these data types wherever practical in OpenCL applications."
   ]
  },
  {
   "cell_type": "markdown",
   "id": "f74fadec-498d-4b1f-90fa-463090119eed",
   "metadata": {},
   "source": [
    "## Scalar types"
   ]
  },
  {
   "cell_type": "markdown",
   "id": "b2bdf6d3-903d-4387-9b14-75514da9a255",
   "metadata": {},
   "source": [
    "| kernel C type | OpenCL standard type | Description and bits used |  \n",
    "| :- | :- | :- |\n",
    "| bool | NA | undefined |\n",
    "| char | cl_char | 8 bits, signed two's complement integer  |\n",
    "| unsigned char, uchar | cl_uchar | 8 bits, unsigned integer |\n",
    "| short | cl_short | 16 bits, signed two's complement integer |\n",
    "| unsigned short, ushort | cl_ushort | 16 bits, unsigned integer |\n",
    "| int | cl_int | 32 bits, signed two's complement integer |\n",
    "| unsigned int, uint | cl_uint | 32 bits, unsigned integer |\n",
    "| long | cl_long | 64 bits, signed two's complement integer |\n",
    "| unsigned long, ulong | cl_ulong | 64 bits, unsigned integer |\n",
    "| half | cl_half | 16 bits, floating point number |\n",
    "| float | cl_float | 32 bits, floating point number |\n",
    "| double | cl_double | 64 bits, floating point number |\n",
    "| size_t | NA | unknown bits, result of **sizeof** operator |\n",
    "| ptrdiff_t | NA | unknown bits, signed integer type from the subtraction of one pointer from another |\n",
    "| intptr_t | NA | unknown bits, pointer storage in a signed integer type |\n",
    "| uintptr_t | NA | unknown bits, pointer storage in an unsigned integer type |\n",
    "| void | void | unknown bits, incomplete type |"
   ]
  },
  {
   "cell_type": "markdown",
   "id": "fdaf74b0-5f3b-4369-93f9-0ea17fece4ea",
   "metadata": {},
   "source": [
    "## Vector types\n",
    "\n",
    "In addition to the standard types above, the OpenCL standard also defines a number of vector types with **n** = 2,3,4,8, and 16 elements. Vectors can unlock performance within an OpenCL application because memory is loaded into caches using cache lines that are typically around 64-128 bytes (or 16-32 floats) wide. Furthermore, CPU's have SIMD units that can process, in one instruction, vectors of floats to 64 bytes long. Here are the vector types as used in both host and kernel code."
   ]
  },
  {
   "cell_type": "markdown",
   "id": "edc907a3-dafd-4abe-8909-1aaa6825717e",
   "metadata": {},
   "source": [
    "| kernel C type | OpenCL standard type | Description and bits used |  \n",
    "| :- | :- | :- |\n",
    "| char**n** | cl_char**n** | **n** x 8 bits, signed two's complement integers  |\n",
    "| uchar**n** | cl_uchar**n** | **n** x 8 bits, unsigned integers |\n",
    "| short**n** | cl_short**n** | **n** x 16 bits, signed two's complement integers |\n",
    "| ushort**n** | cl_ushort**n** | **n** x 16 bits, unsigned integers |\n",
    "| int**n** | cl_int**n** | **n** x 32 bits, signed two's complement integers |\n",
    "| uint**n** | cl_uint**n** | **n** x 32 bits, unsigned integers |\n",
    "| long**n** | cl_long**n** | **n** x 64 bits, signed two's complement integers |\n",
    "| ulong**n** | cl_ulong**n** | **n** x 64 bits, unsigned integers |\n",
    "| float**n** | cl_float**n** | **n** x 32 bits, floating point numbers |\n",
    "| double**n** | cl_double**n** | **n** x 64 bits, floating point numbers |"
   ]
  },
  {
   "cell_type": "markdown",
   "id": "bcc8f1b2-b38c-4d7a-ac62-6ddd2c4f4665",
   "metadata": {},
   "source": [
    "### Complex numbers in OpenCL\n",
    "\n",
    "Complex numbers are not implemented in OpenCL, however you can store the real and imaginary components in a **float2** or **double2** vector type for example. One must manually perform the complex math on the individual components."
   ]
  },
  {
   "cell_type": "markdown",
   "id": "bd252b27-3d31-408c-80c4-497b506af420",
   "metadata": {},
   "source": [
    "### Vector access from the host\n",
    "\n",
    "There is a sophisticated means of indexing into a vector type within an OpenCL kernel, however from the host one has to use the **.s[index]** indexing to get at individual elements.\n",
    "\n",
    "```C++\n",
    "// Code from the host\n",
    "\n",
    "// Declare an initialised vector\n",
    "cl_float4 f = (cl_float4){0.0, 1.0, 2.0, 3.0};\n",
    "    \n",
    "// Could have also been done like this\n",
    "//cl_float4 f = (cl_float4){0.0};\n",
    "\n",
    "// Print out the last element\n",
    "std::printf(\"%f\\n\", f.s[3]);\n",
    "    \n",
    "// Store a value in the last element\n",
    "f.s[3] = 10.0;\n",
    "    \n",
    "// Print out the last element again\n",
    "std::printf(\"%f\\n\", f.s[3]);\n",
    "```"
   ]
  },
  {
   "cell_type": "markdown",
   "id": "8cb64c25-593e-4526-a731-c22a5f575968",
   "metadata": {},
   "source": [
    "### Vector access from within a kernel"
   ]
  },
  {
   "cell_type": "markdown",
   "id": "7391bf88-e0bc-4239-9dca-a8934694b178",
   "metadata": {},
   "source": [
    "Allocations of memory that are passed to a kernel in the **\\_\\_global** or **\\_\\_local** address spaces can be interpreted as a vector data type. For example in this kernel definition we interpret the global memory allocations **A_star**, **BT_star** and the local memory allocations **shared_A_star** and **shared_BT_star** as vectors of type **float8**. \n",
    "\n",
    "```C++\n",
    "__kernel void mat_mult_local_transp_vec (\n",
    "                        __global float8* A_star, \n",
    "                        __global float8* BT_star, \n",
    "                        __global float* C,\n",
    "                        __local  float8* shared_A_star,\n",
    "                        __local  float8* shared_BT_star,\n",
    "                        unsigned int N1_A_v, \n",
    "                        unsigned int N0_C,\n",
    "                        unsigned int N1_C) {\n",
    "```\n",
    "\n",
    "One must make sure of two things when using memory in this way:\n",
    "\n",
    "* The memory allocation is big enough so that the last element in the last vector accessed is backed by memory.\n",
    "* The memory is byte-aligned so that the starting address of the allocation is a multiple of the vector length.\n",
    "\n",
    "If an OpenCL function is performing the memory allocation, such as [clCreateBuffer](https://www.khronos.org/registry/OpenCL/sdk/3.0/docs/man/html/clCreateBuffer.html) or [clSVMAlloc](https://www.khronos.org/registry/OpenCL/sdk/3.0/docs/man/html/clSVMAlloc.html) then it will usually allocate memory according to the largest OpenCL memory type (**long16**). Otherwise, use the C11 function **aligned_alloc** to allocate memory with the same alignment as there are bytes in the vector type."
   ]
  },
  {
   "cell_type": "markdown",
   "id": "747c6598-d1d4-40ce-93da-7946aebf894e",
   "metadata": {},
   "source": [
    "Access to a vector type from within a kernel is done using dot notation. You can use **.x .y .z** and **.w** for the first four elements, or you can use **.s0, .s1, .s2, .s3, .s4, .s5, .s6, .s7, .s8, .s9, .sa, .sb, .sc, .sd, .se, .sf** to access values up to the 16th element. A neat thing about OpenCL vectors is that you can \"swizzle\", or permute indices (using either .xyzw or .s* but not both) to mix up the order of the vector."
   ]
  },
  {
   "cell_type": "markdown",
   "id": "6db43c6c-6f56-4fb6-850f-69904727afb0",
   "metadata": {},
   "source": [
    "```C++\n",
    "// Code within a kernel\n",
    "\n",
    "// Explicit declaration\n",
    "float4 f = (float4)(1.0f, 2.0f, 3.0f, 4.0f);\n",
    "\n",
    "// Explicit declaration\n",
    "float4 v = (float4)(1.0f);\n",
    "\n",
    "// Access to element 0 (both expressions are equivalent)\n",
    "v.x = 1.0f;\n",
    "v.s0 = 1.0f;\n",
    "\n",
    "// Valid examples of swizzling\n",
    "v.xyzw = f.wzyx;\n",
    "v.xyzw = f.s3210;\n",
    "```"
   ]
  },
  {
   "cell_type": "markdown",
   "id": "aacb9928-9278-41cd-8ee8-a079e69da40b",
   "metadata": {},
   "source": [
    "You can also load and store vectors from a memory allocation using the **vloadn** and **vstoren** functions. \n",
    "\n",
    "```C++\n",
    "// OpenCL kernel code\n",
    "\n",
    "// Assuming arr is a memory allocation from global memory\n",
    "\n",
    "// Load a float4 vector starting at the\n",
    "// memory location of offset*4 relative to arr\n",
    "float4 f = vload4(offset, arr);\n",
    "\n",
    "// Store a float4 vector starting at the \n",
    "// memory location of offset*4 relative to arr\n",
    "vstore4(f, offset, arr);\n",
    "```\n",
    "\n",
    "In order to avoid undefined behaviour, the address **arr** for the allocation needs to be byte-aligned to the data type being used. So as long as you use the allocated (and aligned) address as the address for **vstoren** and **vloadn** functions you will be fine."
   ]
  },
  {
   "cell_type": "markdown",
   "id": "dc9a1b1a-bb19-41dd-bc3d-8eb953e6e703",
   "metadata": {},
   "source": [
    "<address>\n",
    "Written by Dr. Toby Potter of <a href=\"https://www.pelagos-consulting.com\">Pelagos Consulting and Education</a> for the Pawsey Supercomputing Centre\n",
    "</address>"
   ]
  }
 ],
 "metadata": {
  "kernelspec": {
   "display_name": "Python 3 (ipykernel)",
   "language": "python",
   "name": "python3"
  },
  "language_info": {
   "codemirror_mode": {
    "name": "ipython",
    "version": 3
   },
   "file_extension": ".py",
   "mimetype": "text/x-python",
   "name": "python",
   "nbconvert_exporter": "python",
   "pygments_lexer": "ipython3",
   "version": "3.10.9"
  }
 },
 "nbformat": 4,
 "nbformat_minor": 5
}
