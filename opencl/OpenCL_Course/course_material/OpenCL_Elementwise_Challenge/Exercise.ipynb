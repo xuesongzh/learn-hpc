{
 "cells": [
  {
   "cell_type": "markdown",
   "id": "ab05c2bd-93e8-4a48-830b-8895d93c7d09",
   "metadata": {
    "tags": []
   },
   "source": [
    "# Exercise - Hadamard (elementwise) matrix multiplication\n",
    "\n",
    "In this exercise we are going to solidify our understanding of the process of OpenCL using a sister example of Hadamard matrix multiplication. Hadamard multiplication is elementwise multiplication. The values in matrices **D** and **E** at coordinates (i0,i1) are multiplied together to set the value at coordinates (i0,i1) in matrix **F**.\n",
    "\n",
    "<figure style=\"margin-left:auto; margin-right:auto; width:80%;\">\n",
    "    <img style=\"vertical-align:middle\" src=\"../images/elementwise_multiplication.svg\">\n",
    "    <figcaption style= \"text-align:lower; margin:1em; float:bottom; vertical-align:bottom;\">Elementwise multiplication of matrices D and E to get F.</figcaption>\n",
    "</figure>\n",
    "\n",
    "The source code is located in [mat_elementwise.cpp](mat_elementwise.cpp) and is similar to the matrix multiplication example <a href=\"../L3_Matrix_Multiplication/mat_mult.cpp\">mat_mult.cpp</a> in almost every aspect. The steps are: \n",
    "\n",
    "1. Device discovery and selection\n",
    "1. Command queues created\n",
    "1. Matrices **D_h** and **E_h** allocated on the host and filled with random numbers\n",
    "1. Matrices **D_d** and **E_d** allocated on the compute device\n",
    "1. Programs built, kernels created and kernel arguments selected\n",
    "1. Matrices **D_h** and **E_h** uploaded to device allocations **D_d** and **E_d**\n",
    "1. The kernel **mat_elementwise** is run on the device to compute **F_d** from **D_d** and **E_d**\n",
    "1. **F_d** is copied to **F_h** and compared with the solution **F_answer_h** from sequential CPU code\n",
    "1. Memory and device cleanup"
   ]
  },
  {
   "cell_type": "markdown",
   "id": "4fa26fc1-26c4-4c4e-828a-863acc1fb431",
   "metadata": {},
   "source": [
    "## Compile and run the answer\n",
    "\n",
    "We compile and run the solution [mat_elementwise_answer.cpp](mat_elementwise_answer.cpp) as shown below. We are using a really small matrix (8,4) so that the exercise may be done from the command line. "
   ]
  },
  {
   "cell_type": "code",
   "execution_count": 1,
   "id": "442a5828-86a2-4f46-aa4c-bd6f57fe7c74",
   "metadata": {},
   "outputs": [
    {
     "name": "stdout",
     "output_type": "stream",
     "text": [
      "rm -r *.exe\n",
      "CC -g -fopenmp -O2 -I../include mat_elementwise.cpp -o mat_elementwise.exe -lOpenCL\n",
      "CC -g -fopenmp -O2 -I../include mat_elementwise_answer.cpp -o mat_elementwise_answer.exe -lOpenCL\n",
      "\t               name: gfx1035 \n",
      "\t     Device version: OpenCL 2.0  \n",
      "\t global memory size: 536 MB\n",
      "\t    max buffer size: 456 MB\n",
      "\t     max local size: (1024,1024,1024)\n",
      "\t     max work-items: 256\n",
      "The output array F_h (as computed with OpenCL) is\n",
      "----\n",
      "|  4.50e-01  1.70e-01  2.77e-01  2.21e-02 |\n",
      "|  2.46e-02  3.48e-02  4.41e-02  2.05e-01 |\n",
      "|  7.57e-01  4.06e-03  3.90e-01  2.74e-01 |\n",
      "|  3.16e-01  3.38e-05  9.45e-02  9.03e-01 |\n",
      "|  1.60e-02  6.24e-03  9.69e-02  4.00e-01 |\n",
      "|  4.89e-01  4.12e-01  8.46e-01  8.93e-02 |\n",
      "|  3.23e-01  3.19e-02  2.84e-01  4.18e-01 |\n",
      "|  2.02e-02  3.38e-01  2.30e-01  1.49e-01 |\n",
      "----\n",
      "The CPU solution (F_answer_h) is \n",
      "----\n",
      "|  4.50e-01  1.70e-01  2.77e-01  2.21e-02 |\n",
      "|  2.46e-02  3.48e-02  4.41e-02  2.05e-01 |\n",
      "|  7.57e-01  4.06e-03  3.90e-01  2.74e-01 |\n",
      "|  3.16e-01  3.38e-05  9.45e-02  9.03e-01 |\n",
      "|  1.60e-02  6.24e-03  9.69e-02  4.00e-01 |\n",
      "|  4.89e-01  4.12e-01  8.46e-01  8.93e-02 |\n",
      "|  3.23e-01  3.19e-02  2.84e-01  4.18e-01 |\n",
      "|  2.02e-02  3.38e-01  2.30e-01  1.49e-01 |\n",
      "----\n",
      "The residual (F_answer_h-F_h) is\n",
      "----\n",
      "|  0.00e+00  0.00e+00  0.00e+00  0.00e+00 |\n",
      "|  0.00e+00  0.00e+00  0.00e+00  0.00e+00 |\n",
      "|  0.00e+00  0.00e+00  0.00e+00  0.00e+00 |\n",
      "|  0.00e+00  0.00e+00  0.00e+00  0.00e+00 |\n",
      "|  0.00e+00  0.00e+00  0.00e+00  0.00e+00 |\n",
      "|  0.00e+00  0.00e+00  0.00e+00  0.00e+00 |\n",
      "|  0.00e+00  0.00e+00  0.00e+00  0.00e+00 |\n",
      "|  0.00e+00  0.00e+00  0.00e+00  0.00e+00 |\n",
      "----\n",
      "Maximum error (infinity norm) is: 0\n"
     ]
    }
   ],
   "source": [
    "!make clean; make; ./mat_elementwise_answer.exe"
   ]
  },
  {
   "cell_type": "markdown",
   "id": "bce2e7ae-1e51-4970-8a47-b8f22789f79a",
   "metadata": {},
   "source": [
    "This is what we expect to see. The residual (last matrix shown) is the result of subtracting the OpenCL output (**F_h**) from the CPU output and is 0 everywhere."
   ]
  },
  {
   "cell_type": "markdown",
   "id": "a2be91d2-3672-46f5-a31e-25e04c34f779",
   "metadata": {},
   "source": [
    "## Compile and run the exercise\n",
    "\n",
    "The exercise [mat_mult_elementwise.cpp](mat_mult_elementwise.cpp) is missing a number of lines of code. If we compile and run we see a non-zero residual. Copy this command to the command line (without the !) and run it as follows:"
   ]
  },
  {
   "cell_type": "code",
   "execution_count": 2,
   "id": "bb030a7d-9d4c-4369-8fb3-2104943b02f9",
   "metadata": {},
   "outputs": [
    {
     "name": "stdout",
     "output_type": "stream",
     "text": [
      "make: Nothing to be done for 'all'.\n",
      "\t               name: gfx1035 \n",
      "\t     Device version: OpenCL 2.0  \n",
      "\t global memory size: 536 MB\n",
      "\t    max buffer size: 456 MB\n",
      "\t     max local size: (1024,1024,1024)\n",
      "\t     max work-items: 256\n",
      "The output array F_h (as computed with OpenCL) is\n",
      "----\n",
      "|  0.00e+00  0.00e+00  0.00e+00  0.00e+00 |\n",
      "|  0.00e+00  0.00e+00  0.00e+00  0.00e+00 |\n",
      "|  0.00e+00  0.00e+00  0.00e+00  0.00e+00 |\n",
      "|  0.00e+00  0.00e+00  0.00e+00  0.00e+00 |\n",
      "|  0.00e+00  0.00e+00  0.00e+00  0.00e+00 |\n",
      "|  0.00e+00  0.00e+00  0.00e+00  0.00e+00 |\n",
      "|  0.00e+00  0.00e+00  0.00e+00  0.00e+00 |\n",
      "|  0.00e+00  0.00e+00  0.00e+00  0.00e+00 |\n",
      "----\n",
      "The CPU solution (F_answer_h) is \n",
      "----\n",
      "|  4.50e-01  1.70e-01  2.77e-01  2.21e-02 |\n",
      "|  2.46e-02  3.48e-02  4.41e-02  2.05e-01 |\n",
      "|  7.57e-01  4.06e-03  3.90e-01  2.74e-01 |\n",
      "|  3.16e-01  3.38e-05  9.45e-02  9.03e-01 |\n",
      "|  1.60e-02  6.24e-03  9.69e-02  4.00e-01 |\n",
      "|  4.89e-01  4.12e-01  8.46e-01  8.93e-02 |\n",
      "|  3.23e-01  3.19e-02  2.84e-01  4.18e-01 |\n",
      "|  2.02e-02  3.38e-01  2.30e-01  1.49e-01 |\n",
      "----\n",
      "The residual (F_answer_h-F_h) is\n",
      "----\n",
      "|  4.50e-01  1.70e-01  2.77e-01  2.21e-02 |\n",
      "|  2.46e-02  3.48e-02  4.41e-02  2.05e-01 |\n",
      "|  7.57e-01  4.06e-03  3.90e-01  2.74e-01 |\n",
      "|  3.16e-01  3.38e-05  9.45e-02  9.03e-01 |\n",
      "|  1.60e-02  6.24e-03  9.69e-02  4.00e-01 |\n",
      "|  4.89e-01  4.12e-01  8.46e-01  8.93e-02 |\n",
      "|  3.23e-01  3.19e-02  2.84e-01  4.18e-01 |\n",
      "|  2.02e-02  3.38e-01  2.30e-01  1.49e-01 |\n",
      "----\n",
      "Maximum error (infinity norm) is: 0.9\n"
     ]
    }
   ],
   "source": [
    "!make; ./mat_elementwise.exe"
   ]
  },
  {
   "cell_type": "markdown",
   "id": "465dfedf-8f4e-4189-8840-bc31f6279b88",
   "metadata": {},
   "source": [
    "As you can see the residual is non-zero, which means that the output is incorrect. The challenge is to edit the sources [mat_elementwise.cpp](mat_elementwise.cpp) and [kernels_elementwise.c](kernels_elementwise.c) so the program **mat_elementwise.exe** produces the same result as the solution [mat_elementwise_answer.cpp](mat_elementwise_answer.cpp) and [kernels_elementwise_answer.c](kernels_elementwise_answer.c)."
   ]
  },
  {
   "cell_type": "markdown",
   "id": "35a9fa7b-ebda-494c-8908-e59722c7a6a1",
   "metadata": {},
   "source": [
    "## Choose your own coding adventure!\n",
    "\n",
    "As it stands the exercise [mat_elementwise.cpp](mat_elementwise.cpp) is missing a number of **crucial** steps. Each step is clearly marked out in the code using quadruple `////` comments. It may also be helpful to download the latest [OpenCL C specification](https://www.khronos.org/registry/OpenCL/specs/3.0-unified/pdf/OpenCL_C.pdf) and have it ready before you start.\n",
    "\n",
    "1. Finish the kernel code to perform the actual elementwise multiplication in [kernels_elementwise.c](kernels_elementwise.c).\n",
    "    * Make sure you have a guard statement in place so that you don't overrun the bounds of F. \n",
    "    * Use multi-dimensional indexing as shown in the Survival C++ Lesson to index into arrays.\n",
    "    * If you get stuck you can just copy the kernel from the answer in [kernels_elementwise_answer.c](kernels_elementwise_answer.c).\n",
    "1. Create OpenCL buffers for matrices **D_d**, **E_d**, and **F_d**.\n",
    "    * Call **clCreateBuffer** to create the buffer.\n",
    "    * Don't forget to check the result of API calls with H_ERRCHK.\n",
    "1. Create the kernel and set kernel arguments\n",
    "    * Call **clCreateKernel** to create a kernel from **program**.\n",
    "    * Use **clSetKernelArg** to set kernel arguments.\n",
    "1. Upload memory from arrays **D_h** and **E_h** on the host to **D_d** and **E_d** on the device.\n",
    "    * Call **clEnqueueWriteBuffer** to copy memory from host to device.\n",
    "    * Use the variable *command_queue* as the command_queue\n",
    "1. Launch the kernel and wait for it to complete\n",
    "    * Use **clEnqueueNDRangeKernel** to enqueue the kernel.\n",
    "    * Use **clWaitForEvents** to wait on the kernel event\n",
    "1. Copy the solution **F_d** on the compute device back to **F_h** on the host.\n",
    "    * Call **clEnqueueReadBuffer** to copy memory from device to host.\n",
    "1. Release the buffers for **D_d**, **E_d**, and **F_d** on the compute device.\n",
    "    * Call **clReleaseMemObject** to release OpenCL buffers.\n",
    "\n",
    "As an OpenCL developer your job is to provide source code to fill in the missing steps, using either the template code in <a href=\"../L3_Matrix_Multiplication/mat_mult.cpp\">mat_mult.cpp</a> or by peeking at the solution in [mat_elementwise_answer.cpp](mat_elementwise_answer.cpp). You can make these tasks as easy or as challenging as you wish. Each of the steps has a **shortcut solution** that you can access by uncommenting the code snippet that has the answer. For example see these lines for step 2 in [mat_elementwise.cpp](mat_elementwise.cpp).\n",
    "\n",
    "```C++\n",
    "    //// Step 2. Use clCreateBuffer to allocate OpenCL buffers\n",
    "    //// for arrays D_d, E_d, and F_d. ////\n",
    "\n",
    "    // Uncomment for the shortcut answer\n",
    "    // #include \"step2_create_buffers.cpp\"\n",
    "\n",
    "    //// End code: ////\n",
    "```\n",
    "\n",
    "If you get stuck you can just uncomment the **#include** statement to bring in the solution for that step and move on to another, for example uncommenting this line brings in the shortcut solution to create buffers:\n",
    "\n",
    "\n",
    "```C++\n",
    "    //// Step 2. Use clCreateBuffer to allocate OpenCL buffers\n",
    "    //// for arrays D_d, E_d, and F_d. ////\n",
    "\n",
    "    // Uncomment for the shortcut answer\n",
    "    #include \"step2_create_buffers.cpp\"\n",
    "\n",
    "    //// End code: ////\n",
    "```\n",
    "\n",
    "The goal is to become familiar with looking up and implementing **OpenCL** API calls as well as solidifying the understanding achieved over the past few modules. For your exercise you can choose to focus on as little as a **single task** or try to implement **all the tasks** yourself. It is up to you and how much you can accomplish within the time allotted. Some steps may depend on others, so if you skip a step just make sure you uncomment the shortcut. Each time you make changes to the code you can run the following to test it out."
   ]
  },
  {
   "cell_type": "code",
   "execution_count": 4,
   "id": "06d4be13-9cfd-461e-b984-bab6a678c01e",
   "metadata": {},
   "outputs": [
    {
     "name": "stdout",
     "output_type": "stream",
     "text": [
      "make: Nothing to be done for 'all'.\n",
      "\t               name: gfx1035 \n",
      "\t     Device version: OpenCL 2.0  \n",
      "\t global memory size: 536 MB\n",
      "\t    max buffer size: 456 MB\n",
      "\t     max local size: (1024,1024,1024)\n",
      "\t     max work-items: 256\n",
      "The output array F_h (as computed with OpenCL) is\n",
      "----\n",
      "|  0.00e+00  0.00e+00  0.00e+00  0.00e+00 |\n",
      "|  0.00e+00  0.00e+00  0.00e+00  0.00e+00 |\n",
      "|  0.00e+00  0.00e+00  0.00e+00  0.00e+00 |\n",
      "|  0.00e+00  0.00e+00  0.00e+00  0.00e+00 |\n",
      "|  0.00e+00  0.00e+00  0.00e+00  0.00e+00 |\n",
      "|  0.00e+00  0.00e+00  0.00e+00  0.00e+00 |\n",
      "|  0.00e+00  0.00e+00  0.00e+00  0.00e+00 |\n",
      "|  0.00e+00  0.00e+00  0.00e+00  0.00e+00 |\n",
      "----\n",
      "The CPU solution (F_answer_h) is \n",
      "----\n",
      "|  4.50e-01  1.70e-01  2.77e-01  2.21e-02 |\n",
      "|  2.46e-02  3.48e-02  4.41e-02  2.05e-01 |\n",
      "|  7.57e-01  4.06e-03  3.90e-01  2.74e-01 |\n",
      "|  3.16e-01  3.38e-05  9.45e-02  9.03e-01 |\n",
      "|  1.60e-02  6.24e-03  9.69e-02  4.00e-01 |\n",
      "|  4.89e-01  4.12e-01  8.46e-01  8.93e-02 |\n",
      "|  3.23e-01  3.19e-02  2.84e-01  4.18e-01 |\n",
      "|  2.02e-02  3.38e-01  2.30e-01  1.49e-01 |\n",
      "----\n",
      "The residual (F_answer_h-F_h) is\n",
      "----\n",
      "|  4.50e-01  1.70e-01  2.77e-01  2.21e-02 |\n",
      "|  2.46e-02  3.48e-02  4.41e-02  2.05e-01 |\n",
      "|  7.57e-01  4.06e-03  3.90e-01  2.74e-01 |\n",
      "|  3.16e-01  3.38e-05  9.45e-02  9.03e-01 |\n",
      "|  1.60e-02  6.24e-03  9.69e-02  4.00e-01 |\n",
      "|  4.89e-01  4.12e-01  8.46e-01  8.93e-02 |\n",
      "|  3.23e-01  3.19e-02  2.84e-01  4.18e-01 |\n",
      "|  2.02e-02  3.38e-01  2.30e-01  1.49e-01 |\n",
      "----\n",
      "Maximum error (infinity norm) is: 0.9\n"
     ]
    }
   ],
   "source": [
    "!make; ./mat_elementwise.exe"
   ]
  },
  {
   "cell_type": "markdown",
   "id": "c6b37f0d-2da5-457e-af39-a016d2f6bb42",
   "metadata": {},
   "source": [
    "Have fun!"
   ]
  },
  {
   "cell_type": "markdown",
   "id": "bdf2f0b4-b73b-470f-b06f-8b24dde83d75",
   "metadata": {},
   "source": [
    "<address>\n",
    "Written by Dr. Toby Potter of <a href=\"https://www.pelagos-consulting.com\">Pelagos Consulting and Education</a> for the <a href=\"https://pawsey.org.au\">Pawsey Supercomputing Research Centre</a>. All trademarks mentioned are the property of their respective owners.\n",
    "</address>"
   ]
  }
 ],
 "metadata": {
  "kernelspec": {
   "display_name": "Python 3 (ipykernel)",
   "language": "python",
   "name": "python3"
  },
  "language_info": {
   "codemirror_mode": {
    "name": "ipython",
    "version": 3
   },
   "file_extension": ".py",
   "mimetype": "text/x-python",
   "name": "python",
   "nbconvert_exporter": "python",
   "pygments_lexer": "ipython3",
   "version": "3.10.9"
  }
 },
 "nbformat": 4,
 "nbformat_minor": 5
}
