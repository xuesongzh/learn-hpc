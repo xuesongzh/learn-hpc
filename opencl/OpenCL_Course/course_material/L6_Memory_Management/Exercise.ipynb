{
 "cells": [
  {
   "cell_type": "markdown",
   "id": "d6443b86-83d9-45b0-bebc-35d3a64d55da",
   "metadata": {
    "tags": []
   },
   "source": [
    "# Exercise - Using rectangular copies for Hadamard matrix multiplication\n",
    "\n",
    "Hadamard matrix multiplication is where the values in matrices **D** and **E** at coordinates (i0,i1) are multiplied together to set the value at coordinates (i0,i1) in matrix **F**.\n",
    "\n",
    "<figure style=\"margin-left:auto; margin-right:auto; width:80%;\">\n",
    "    <img style=\"vertical-align:middle\" src=\"../images/elementwise_multiplication.svg\">\n",
    "    <figcaption style= \"text-align:lower; margin:1em; float:bottom; vertical-align:bottom;\">Elementwise multiplication of matrices D and E to get F.</figcaption>\n",
    "</figure>\n",
    "\n",
    "The steps are: \n",
    "\n",
    "1. Device discovery and selection.\n",
    "1. Command queues created.\n",
    "1. Matrices **D_h** and **E_h** allocated on the host and filled with random numbers.\n",
    "1. Matrices **D_d** and **E_d** allocated on the compute device.\n",
    "1. Programs built, kernels created and kernel arguments selected.\n",
    "1. Matrices **D_h** and **E_h** uploaded to device allocations **D_d** and **E_d**.\n",
    "1. The kernel **mat_elementwise** is run on the device to compute **F_d** from **D_d** and **E_d**.\n",
    "1. **F_d** is copied to **F_h** and compared with the solution **F_answer_h** from sequential CPU code.\n",
    "1. Memory and device cleanup\n",
    "\n",
    "Using rectangular copies is an important skill to master, especially when you are decomposing your problem into sections that are to be handled by different devices. In this exercise we are going enable the elementwise matrix multiplication code to use a **rectangular copy** to copy the memory allocation **F_d** back to the host (**F_h**). The source code to edit is located in [mat_elementwise.cpp](mat_elementwise.cpp) and the kernel is in [kernels_elementwise.c](kernels_elementwise.c). Your task is to make the necessary change so that copies back from **F_d** uses a **rectangular** copy ([clEnqueueReadBufferRect](https://www.khronos.org/registry/OpenCL/sdk/3.0/docs/man/html/clEnqueueReadBufferRect.html)) instead of the normal copy."
   ]
  },
  {
   "cell_type": "markdown",
   "id": "21cb7458-be15-467d-8550-d43c5aa30bdb",
   "metadata": {},
   "source": [
    "## Run the exercise code\n",
    "\n",
    "As it stands the code produces the right answer, but it is using a standard contiguous copy to copy **F_d** back to **F_h**."
   ]
  },
  {
   "cell_type": "code",
   "execution_count": 1,
   "id": "06d4be13-9cfd-461e-b984-bab6a678c01e",
   "metadata": {},
   "outputs": [
    {
     "name": "stdout",
     "output_type": "stream",
     "text": [
      "rm -rf *.exe\n",
      "CC -g -fopenmp -O2 -I../include mat_elementwise.cpp -o mat_elementwise.exe -lOpenCL\n",
      "\t               name: gfx1035 \n",
      "\t     Device version: OpenCL 2.0  \n",
      "\t global memory size: 536 MB\n",
      "\t    max buffer size: 456 MB\n",
      "\t     max local size: (1024,1024,1024)\n",
      "\t     max work-items: 256\n",
      "The output array F_h (as computed with OpenCL) is\n",
      "----\n",
      "|  4.50e-01  1.70e-01  2.77e-01  2.21e-02 |\n",
      "|  2.46e-02  3.48e-02  4.41e-02  2.05e-01 |\n",
      "|  7.57e-01  4.06e-03  3.90e-01  2.74e-01 |\n",
      "|  3.16e-01  3.38e-05  9.45e-02  9.03e-01 |\n",
      "|  1.60e-02  6.24e-03  9.69e-02  4.00e-01 |\n",
      "|  4.89e-01  4.12e-01  8.46e-01  8.93e-02 |\n",
      "|  3.23e-01  3.19e-02  2.84e-01  4.18e-01 |\n",
      "|  2.02e-02  3.38e-01  2.30e-01  1.49e-01 |\n",
      "----\n",
      "The CPU solution (F_answer_h) is \n",
      "----\n",
      "|  4.50e-01  1.70e-01  2.77e-01  2.21e-02 |\n",
      "|  2.46e-02  3.48e-02  4.41e-02  2.05e-01 |\n",
      "|  7.57e-01  4.06e-03  3.90e-01  2.74e-01 |\n",
      "|  3.16e-01  3.38e-05  9.45e-02  9.03e-01 |\n",
      "|  1.60e-02  6.24e-03  9.69e-02  4.00e-01 |\n",
      "|  4.89e-01  4.12e-01  8.46e-01  8.93e-02 |\n",
      "|  3.23e-01  3.19e-02  2.84e-01  4.18e-01 |\n",
      "|  2.02e-02  3.38e-01  2.30e-01  1.49e-01 |\n",
      "----\n",
      "The residual (F_answer_h-F_h) is\n",
      "----\n",
      "|  0.00e+00  0.00e+00  0.00e+00  0.00e+00 |\n",
      "|  0.00e+00  0.00e+00  0.00e+00  0.00e+00 |\n",
      "|  0.00e+00  0.00e+00  0.00e+00  0.00e+00 |\n",
      "|  0.00e+00  0.00e+00  0.00e+00  0.00e+00 |\n",
      "|  0.00e+00  0.00e+00  0.00e+00  0.00e+00 |\n",
      "|  0.00e+00  0.00e+00  0.00e+00  0.00e+00 |\n",
      "|  0.00e+00  0.00e+00  0.00e+00  0.00e+00 |\n",
      "|  0.00e+00  0.00e+00  0.00e+00  0.00e+00 |\n",
      "----\n",
      "Maximum error (infinity norm) is: 0\n"
     ]
    }
   ],
   "source": [
    "!make clean; make ./mat_elementwise.exe; ./mat_elementwise.exe"
   ]
  },
  {
   "cell_type": "markdown",
   "id": "d91b193b-40d3-4742-acf9-3220ba6a344e",
   "metadata": {},
   "source": [
    "## Tasks\n",
    "\n",
    "1. Load up the documentation for [clEnqueueReadBufferRect](https://www.khronos.org/registry/OpenCL/sdk/3.0/docs/man/html/clEnqueueReadBufferRect.html).\n",
    "1. In [mat_mult_local.cpp:190](mat_mult_local.cpp) there is an example for performing a rectangular copy using [clEnqueueWriteBufferRect](https://www.khronos.org/registry/OpenCL/sdk/3.0/docs/man/html/clEnqueueWriteBufferRect.html). Copy-paste that code to [mat_elementwise.cpp](mat_elementwise.cpp) and begin modifications."
   ]
  },
  {
   "cell_type": "markdown",
   "id": "a51b538a-ff01-4b69-acf6-3b889e8437f2",
   "metadata": {},
   "source": [
    "### Answer\n",
    "\n",
    "You can of course always look at the answer in [mat_elementwise_answer.cpp](mat_elementwise_answer.cpp) and run the code. But then try to understand why the solution is working."
   ]
  },
  {
   "cell_type": "code",
   "execution_count": 2,
   "id": "6c0e16c1-efd4-41a3-8a03-062a01234748",
   "metadata": {},
   "outputs": [
    {
     "name": "stdout",
     "output_type": "stream",
     "text": [
      "CC -g -fopenmp -O2 -I../include mat_elementwise_answer.cpp -o mat_elementwise_answer.exe -lOpenCL\n",
      "\t               name: gfx1035 \n",
      "\t     Device version: OpenCL 2.0  \n",
      "\t global memory size: 536 MB\n",
      "\t    max buffer size: 456 MB\n",
      "\t     max local size: (1024,1024,1024)\n",
      "\t     max work-items: 256\n",
      "The output array F_h (as computed with OpenCL) is\n",
      "----\n",
      "|  4.50e-01  1.70e-01  2.77e-01  2.21e-02 |\n",
      "|  2.46e-02  3.48e-02  4.41e-02  2.05e-01 |\n",
      "|  7.57e-01  4.06e-03  3.90e-01  2.74e-01 |\n",
      "|  3.16e-01  3.38e-05  9.45e-02  9.03e-01 |\n",
      "|  1.60e-02  6.24e-03  9.69e-02  4.00e-01 |\n",
      "|  4.89e-01  4.12e-01  8.46e-01  8.93e-02 |\n",
      "|  3.23e-01  3.19e-02  2.84e-01  4.18e-01 |\n",
      "|  2.02e-02  3.38e-01  2.30e-01  1.49e-01 |\n",
      "----\n",
      "The CPU solution (F_answer_h) is \n",
      "----\n",
      "|  4.50e-01  1.70e-01  2.77e-01  2.21e-02 |\n",
      "|  2.46e-02  3.48e-02  4.41e-02  2.05e-01 |\n",
      "|  7.57e-01  4.06e-03  3.90e-01  2.74e-01 |\n",
      "|  3.16e-01  3.38e-05  9.45e-02  9.03e-01 |\n",
      "|  1.60e-02  6.24e-03  9.69e-02  4.00e-01 |\n",
      "|  4.89e-01  4.12e-01  8.46e-01  8.93e-02 |\n",
      "|  3.23e-01  3.19e-02  2.84e-01  4.18e-01 |\n",
      "|  2.02e-02  3.38e-01  2.30e-01  1.49e-01 |\n",
      "----\n",
      "The residual (F_answer_h-F_h) is\n",
      "----\n",
      "|  0.00e+00  0.00e+00  0.00e+00  0.00e+00 |\n",
      "|  0.00e+00  0.00e+00  0.00e+00  0.00e+00 |\n",
      "|  0.00e+00  0.00e+00  0.00e+00  0.00e+00 |\n",
      "|  0.00e+00  0.00e+00  0.00e+00  0.00e+00 |\n",
      "|  0.00e+00  0.00e+00  0.00e+00  0.00e+00 |\n",
      "|  0.00e+00  0.00e+00  0.00e+00  0.00e+00 |\n",
      "|  0.00e+00  0.00e+00  0.00e+00  0.00e+00 |\n",
      "|  0.00e+00  0.00e+00  0.00e+00  0.00e+00 |\n",
      "----\n",
      "Maximum error (infinity norm) is: 0\n"
     ]
    }
   ],
   "source": [
    "!make mat_elementwise_answer.exe; ./mat_elementwise_answer.exe"
   ]
  },
  {
   "cell_type": "markdown",
   "id": "5dfa4162-65b8-4203-9fa6-dfa52b1b3588",
   "metadata": {},
   "source": [
    "<address>\n",
    "Written by Dr. Toby Potter of <a href=\"https://www.pelagos-consulting.com\">Pelagos Consulting and Education</a> for the <a href=\"https://pawsey.org.au\">Pawsey Supercomputing Research Centre</a>. All trademarks mentioned are the property of their respective owners.\n",
    "</address>"
   ]
  }
 ],
 "metadata": {
  "kernelspec": {
   "display_name": "Python 3 (ipykernel)",
   "language": "python",
   "name": "python3"
  },
  "language_info": {
   "codemirror_mode": {
    "name": "ipython",
    "version": 3
   },
   "file_extension": ".py",
   "mimetype": "text/x-python",
   "name": "python",
   "nbconvert_exporter": "python",
   "pygments_lexer": "ipython3",
   "version": "3.10.9"
  }
 },
 "nbformat": 4,
 "nbformat_minor": 5
}
