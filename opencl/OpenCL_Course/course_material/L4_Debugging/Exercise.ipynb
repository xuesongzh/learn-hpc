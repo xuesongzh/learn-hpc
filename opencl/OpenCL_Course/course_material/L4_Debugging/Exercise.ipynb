{
 "cells": [
  {
   "cell_type": "markdown",
   "id": "d6443b86-83d9-45b0-bebc-35d3a64d55da",
   "metadata": {
    "tags": []
   },
   "source": [
    "# Exercise - Hadamard matrix multiplication gone wrong!\n",
    "\n",
    "In this exercise we are going to use what we know to try and find an error in an OpenCL program. The code perfoms a Hadamard Matrix multiplication, where the values in matrices **D** and **E** at coordinates (i0,i1) are multiplied **elementwise** to set a value at coordinates (i0,i1) in matrix **F**. It is very similar to the matrix multiplication code we have been examining, but simpler.\n",
    "\n",
    "<figure style=\"margin-left:auto; margin-right:auto; width:80%;\">\n",
    "    <img style=\"vertical-align:middle\" src=\"../images/elementwise_multiplication.svg\">\n",
    "    <figcaption style= \"text-align:lower; margin:1em; float:bottom; vertical-align:bottom;\">Elementwise multiplication of matrices D and E to get F.</figcaption>\n",
    "</figure>\n",
    "\n",
    "The source code is located in [mat_elementwise.cpp](mat_elementwise.cpp) and the kernel is in [kernels_elementwise.c](kernels_elementwise.c). The problem is similar to standard matrix multiplication in almost every way, except the kernel implementation. The steps are: \n",
    "\n",
    "1. Device discovery and selection\n",
    "1. Matrices **D_h** and **E_h** allocated on the host and filled with random numbers.\n",
    "1. Matrices **D_d** and **E_d** allocated on the compute device\n",
    "1. Matrices **D_h** and **E_h** uploaded to device allocations **D_d** and **E_d**\n",
    "1. The kernel **mat_elementwise** is run on the device to compute **F_d** from **D_d** and **E_d**.\n",
    "1. **F_d** is copied to **F_h** and compared with the solution **F_answer_h** from a sequential CPU code.\n",
    "1. Memory and device cleanup\n",
    "\n",
    "This code has some critical bugs that produce rubbish output. It is your task to find these bugs using whatever means necessary!"
   ]
  },
  {
   "cell_type": "markdown",
   "id": "c6d34934-6064-43d8-9188-c8a26956ee6b",
   "metadata": {},
   "source": [
    "## Run the solution\n",
    "\n",
    "If we run the solution it computes **F** using elementwise multiplication of matrices **D** and **E**. We see there is little or no residual between the computed matrix **F_h** and **F_answer_h**, the solution computed from a serial CPU code."
   ]
  },
  {
   "cell_type": "code",
   "execution_count": 1,
   "id": "a8b6ea91-17c3-46be-bb3a-90abcd480e1b",
   "metadata": {},
   "outputs": [
    {
     "name": "stdout",
     "output_type": "stream",
     "text": [
      "make: 'mat_elementwise_answer.exe' is up to date.\n",
      "\t               name: gfx1035 \n",
      "\t     Device version: OpenCL 2.0  \n",
      "\t global memory size: 536 MB\n",
      "\t    max buffer size: 456 MB\n",
      "\t     max local size: (1024,1024,1024)\n",
      "\t     max work-items: 256\n",
      "The output array F_h (as computed with OpenCL) is\n",
      "--------\n",
      "|  4.50e-01  1.70e-01  2.77e-01  2.21e-02  2.46e-02  3.48e-02  4.41e-02  2.05e-01 |\n",
      "|  7.57e-01  4.06e-03  3.90e-01  2.74e-01  3.16e-01  3.38e-05  9.45e-02  9.03e-01 |\n",
      "|  1.60e-02  6.24e-03  9.69e-02  4.00e-01  4.89e-01  4.12e-01  8.46e-01  8.93e-02 |\n",
      "|  3.23e-01  3.19e-02  2.84e-01  4.18e-01  2.02e-02  3.38e-01  2.30e-01  1.49e-01 |\n",
      "--------\n",
      "The CPU solution (F_answer_h) is \n",
      "--------\n",
      "|  4.50e-01  1.70e-01  2.77e-01  2.21e-02  2.46e-02  3.48e-02  4.41e-02  2.05e-01 |\n",
      "|  7.57e-01  4.06e-03  3.90e-01  2.74e-01  3.16e-01  3.38e-05  9.45e-02  9.03e-01 |\n",
      "|  1.60e-02  6.24e-03  9.69e-02  4.00e-01  4.89e-01  4.12e-01  8.46e-01  8.93e-02 |\n",
      "|  3.23e-01  3.19e-02  2.84e-01  4.18e-01  2.02e-02  3.38e-01  2.30e-01  1.49e-01 |\n",
      "--------\n",
      "The residual (F_answer_h-F_h) is\n",
      "--------\n",
      "|  0.00e+00  0.00e+00  0.00e+00  0.00e+00  0.00e+00  0.00e+00  0.00e+00  0.00e+00 |\n",
      "|  0.00e+00  0.00e+00  0.00e+00  0.00e+00  0.00e+00  0.00e+00  0.00e+00  0.00e+00 |\n",
      "|  0.00e+00  0.00e+00  0.00e+00  0.00e+00  0.00e+00  0.00e+00  0.00e+00  0.00e+00 |\n",
      "|  0.00e+00  0.00e+00  0.00e+00  0.00e+00  0.00e+00  0.00e+00  0.00e+00  0.00e+00 |\n",
      "--------\n"
     ]
    }
   ],
   "source": [
    "!make mat_elementwise_answer.exe; ./mat_elementwise_answer.exe"
   ]
  },
  {
   "cell_type": "markdown",
   "id": "c8528461-e66a-43bb-a7b8-a416dab61f57",
   "metadata": {},
   "source": [
    "## Run the buggy application\n",
    "\n",
    "Now run the application that has some bug/s in it."
   ]
  },
  {
   "cell_type": "code",
   "execution_count": 2,
   "id": "8885d264-8b91-4fc7-bd99-23750fe5d2bd",
   "metadata": {},
   "outputs": [
    {
     "name": "stdout",
     "output_type": "stream",
     "text": [
      "make: 'mat_elementwise.exe' is up to date.\n",
      "\t               name: gfx1035 \n",
      "\t     Device version: OpenCL 2.0  \n",
      "\t global memory size: 536 MB\n",
      "\t    max buffer size: 456 MB\n",
      "\t     max local size: (1024,1024,1024)\n",
      "\t     max work-items: 256\n",
      "The output array F_h (as computed with OpenCL) is\n",
      "--------\n",
      "|  4.50e-01  1.70e-01  2.77e-01  2.21e-02  2.46e-02  3.48e-02  4.41e-02  2.05e-01 |\n",
      "|  7.57e-01  4.06e-03  3.90e-01  2.74e-01  3.16e-01  3.38e-05  9.45e-02  9.03e-01 |\n",
      "|  1.60e-02  6.24e-03  9.69e-02  4.00e-01  4.89e-01  4.12e-01  8.46e-01  8.93e-02 |\n",
      "|  3.23e-01 -3.73e-01 -3.73e-01 -3.73e-01 -3.73e-01 -3.73e-01 -3.73e-01 -3.73e-01 |\n",
      "--------\n",
      "The CPU solution (F_answer_h) is \n",
      "--------\n",
      "|  4.50e-01  1.70e-01  2.77e-01  2.21e-02  2.46e-02  3.48e-02  4.41e-02  2.05e-01 |\n",
      "|  7.57e-01  4.06e-03  3.90e-01  2.74e-01  3.16e-01  3.38e-05  9.45e-02  9.03e-01 |\n",
      "|  1.60e-02  6.24e-03  9.69e-02  4.00e-01  4.89e-01  4.12e-01  8.46e-01  8.93e-02 |\n",
      "|  3.23e-01  3.19e-02  2.84e-01  4.18e-01  2.02e-02  3.38e-01  2.30e-01  1.49e-01 |\n",
      "--------\n",
      "The residual (F_answer_h-F_h) is\n",
      "--------\n",
      "|  0.00e+00  0.00e+00  0.00e+00  0.00e+00  0.00e+00  0.00e+00  0.00e+00  0.00e+00 |\n",
      "|  0.00e+00  0.00e+00  0.00e+00  0.00e+00  0.00e+00  0.00e+00  0.00e+00  0.00e+00 |\n",
      "|  0.00e+00  0.00e+00  0.00e+00  0.00e+00  0.00e+00  0.00e+00  0.00e+00  0.00e+00 |\n",
      "|  0.00e+00  4.04e-01  6.56e-01  7.91e-01  3.93e-01  7.11e-01  6.02e-01  5.22e-01 |\n",
      "--------\n"
     ]
    }
   ],
   "source": [
    "!make mat_elementwise.exe; ./mat_elementwise.exe"
   ]
  },
  {
   "cell_type": "markdown",
   "id": "a1dc3e97-d73f-4161-94fb-1913143360b1",
   "metadata": {},
   "source": [
    "For some reason nearly all the elements of the last row of **F_h** are filled with an incorrect solution."
   ]
  },
  {
   "cell_type": "markdown",
   "id": "d91b193b-40d3-4742-acf9-3220ba6a344e",
   "metadata": {},
   "source": [
    "## Tasks\n",
    "\n",
    "Your task is to try and find the error using any of the techniques found in the lesson. You can of course have a look at the differences between [mat_elementwise_answer.cpp](mat_elementwise_answer.cpp) and [mat_elementwise.cpp](mat_elementwise.cpp) if you get stuck, but then try to understand why the bug messed up the solution."
   ]
  },
  {
   "cell_type": "markdown",
   "id": "e256ebdb-92ec-4c4d-82e2-07ec4543c037",
   "metadata": {},
   "source": [
    "<address>\n",
    "Written by Dr. Toby Potter of <a href=\"https://www.pelagos-consulting.com\">Pelagos Consulting and Education</a> for the <a href=\"https://pawsey.org.au\">Pawsey Supercomputing Research Centre</a>. All trademarks mentioned are the property of their respective owners.\n",
    "</address>"
   ]
  }
 ],
 "metadata": {
  "kernelspec": {
   "display_name": "Python 3 (ipykernel)",
   "language": "python",
   "name": "python3"
  },
  "language_info": {
   "codemirror_mode": {
    "name": "ipython",
    "version": 3
   },
   "file_extension": ".py",
   "mimetype": "text/x-python",
   "name": "python",
   "nbconvert_exporter": "python",
   "pygments_lexer": "ipython3",
   "version": "3.10.9"
  }
 },
 "nbformat": 4,
 "nbformat_minor": 5
}
