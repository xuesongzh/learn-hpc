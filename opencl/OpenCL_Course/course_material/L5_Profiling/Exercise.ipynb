{
 "cells": [
  {
   "cell_type": "markdown",
   "id": "d6443b86-83d9-45b0-bebc-35d3a64d55da",
   "metadata": {
    "tags": []
   },
   "source": [
    "# Exercise - Hadamard matrix multiplication timing!\n",
    "\n",
    "In this exercise we are going to use the OpenCL profiling library to time the kernel execution for the Hadamard multiplication problem, where the values in matrices **D** and **E** at coordinates (i0,i1) are multiplied together to set the value at coordinates (i0,i1) in matrix **F**.\n",
    "\n",
    "<figure style=\"margin-left:auto; margin-right:auto; width:80%;\">\n",
    "    <img style=\"vertical-align:middle\" src=\"../images/elementwise_multiplication.svg\">\n",
    "    <figcaption style= \"text-align:lower; margin:1em; float:bottom; vertical-align:bottom;\">Elementwise multiplication of matrices D and E to get F.</figcaption>\n",
    "</figure>\n",
    "\n",
    "The source code is located in [mat_elementwise.cpp](mat_elementwise.cpp) and the kernel is in [kernels_elementwise.c](kernels_elementwise.c). Matrices **D** and **E** are created on the host and are filled with random numbers before upload to the compute device and computation of the solution. The steps are:\n",
    "\n",
    "1. Parse program arguments\n",
    "1. Discover resources and choose a compute device\n",
    "1. Construct matrices **D_h** and **E_h** on the host and fill them with random numbers\n",
    "1. Allocate memory for arrays **D_d**, **E_d**, and **F_d** on the compute device\n",
    "1. Upload matrices **D_h** and **E_h** from the host to **D_d** and **E_d** on the device\n",
    "1. Run the kernel to compute **F_d** from **D_d** and **E_d** on the device\n",
    "1. Copy the buffer for matrix **F_d** on the device back to **F_h** on the host\n",
    "1. Test the computed matrix **F_h** against a known answer\n",
    "1. Write the contents of matrices **D_h**, **E_h**, and **F_h** to disk\n",
    "1. Clean up memory alllocations and release resources\n",
    "\n",
    "Your task is to measure how long the kernel takes using the OpenCL event profiling mechanism."
   ]
  },
  {
   "cell_type": "markdown",
   "id": "21cb7458-be15-467d-8550-d43c5aa30bdb",
   "metadata": {},
   "source": [
    "## Run the answer\n",
    "\n",
    "The code [mat_elementwise_answer.cpp](mat_elementwise_answer.cpp) uses OpenCL Events to time both the memory copies from **D_h** to **D_d** and **E_h** to **E_d** and the kernel execution."
   ]
  },
  {
   "cell_type": "code",
   "execution_count": 1,
   "id": "06d4be13-9cfd-461e-b984-bab6a678c01e",
   "metadata": {},
   "outputs": [
    {
     "name": "stdout",
     "output_type": "stream",
     "text": [
      "rm -rf *.exe\n",
      "CC -g -fopenmp -O2 -I../include mat_elementwise_answer.cpp -o mat_elementwise_answer.exe -lOpenCL\n",
      "\t               name: gfx1035 \n",
      "\t     Device version: OpenCL 2.0  \n",
      "\t global memory size: 536 MB\n",
      "\t    max buffer size: 456 MB\n",
      "\t     max local size: (1024,1024,1024)\n",
      "\t     max work-items: 256\n",
      "Time for event \"Uploading Buffer D\": 0.185 ms (11573.69 MB/s)\n",
      "Time for event \"Uploading Buffer E\": 0.138 ms (15530.02 MB/s)\n",
      "Time for event \"Kernel execution\": 0.122 ms\n",
      "Time for event \"Downloading Buffer F\": 0.153 ms (14065.93 MB/s)\n",
      "Maximum error (infinity norm) is: 0\n"
     ]
    }
   ],
   "source": [
    "!make clean; make mat_elementwise_answer.exe; ./mat_elementwise_answer.exe"
   ]
  },
  {
   "cell_type": "markdown",
   "id": "555e3d69-97f7-4f1c-8f22-564629daeb51",
   "metadata": {},
   "source": [
    "Notice that timing information for the memory copies and kernel executions have been printed."
   ]
  },
  {
   "cell_type": "markdown",
   "id": "26570cb4-5834-4987-a20a-2deae34c4472",
   "metadata": {},
   "source": [
    "## Run the problem\n",
    "\n",
    "The code in [mat_elementwise.cpp](mat_elementwise.cpp) works fine, however it has not been instrumented for timing kernel and copy events."
   ]
  },
  {
   "cell_type": "code",
   "execution_count": 2,
   "id": "9b408cd6-49a3-4d34-8e41-a57fcaf3130f",
   "metadata": {},
   "outputs": [
    {
     "name": "stdout",
     "output_type": "stream",
     "text": [
      "CC -g -fopenmp -O2 -I../include mat_elementwise.cpp -o mat_elementwise.exe -lOpenCL\n",
      "\t               name: gfx1035 \n",
      "\t     Device version: OpenCL 2.0  \n",
      "\t global memory size: 536 MB\n",
      "\t    max buffer size: 456 MB\n",
      "\t     max local size: (1024,1024,1024)\n",
      "\t     max work-items: 256\n",
      "Maximum error (infinity norm) is: 0\n"
     ]
    }
   ],
   "source": [
    "!make mat_elementwise.exe; ./mat_elementwise.exe"
   ]
  },
  {
   "cell_type": "markdown",
   "id": "e8fc8240-0bd2-4641-9061-a60453b393d3",
   "metadata": {},
   "source": [
    "As you can see, there currently is no way measurement of kernel duration in the program."
   ]
  },
  {
   "cell_type": "markdown",
   "id": "d91b193b-40d3-4742-acf9-3220ba6a344e",
   "metadata": {},
   "source": [
    "## Tasks\n",
    "\n",
    "Your task is to time the kernel execution using OpenCL events and the the command queue functionality to profile events.\n",
    "\n",
    "* Set the **profiling** flag to **CL_TRUE** for the call to the helper function **h_create_command_queues**. This enables profiling in the command queues.\n",
    "* You may use the helper function **h_get_event_time_ms** to print out the kernel execution time (in milliseconds).\n",
    "* Create an event of type **cl_event** for use with the IO events.\n",
    "* Use the helper function **h_get_event_time_ms** to measure the time and IO rate of the uploads and downloads to the compute device. Define an OpenCL Event of type **cl_event** to track IO events."
   ]
  },
  {
   "cell_type": "markdown",
   "id": "a0085f2e-36d8-4e4a-b524-2a47565ddc6e",
   "metadata": {},
   "source": [
    "### Bonus task"
   ]
  },
  {
   "cell_type": "markdown",
   "id": "8bf708dd-3537-46fc-999a-aa19b8ea335e",
   "metadata": {},
   "source": [
    "Use any one of the profiling tools discussed to find out how long the kernel took."
   ]
  },
  {
   "cell_type": "markdown",
   "id": "07ccfcab-7289-4824-8098-e8b79c7e92a4",
   "metadata": {},
   "source": [
    "<address>\n",
    "Written by Dr. Toby Potter of <a href=\"https://www.pelagos-consulting.com\">Pelagos Consulting and Education</a> for the <a href=\"https://pawsey.org.au\">Pawsey Supercomputing Research Centre</a>. All trademarks mentioned are the property of their respective owners.\n",
    "</address>"
   ]
  }
 ],
 "metadata": {
  "kernelspec": {
   "display_name": "Python 3 (ipykernel)",
   "language": "python",
   "name": "python3"
  },
  "language_info": {
   "codemirror_mode": {
    "name": "ipython",
    "version": 3
   },
   "file_extension": ".py",
   "mimetype": "text/x-python",
   "name": "python",
   "nbconvert_exporter": "python",
   "pygments_lexer": "ipython3",
   "version": "3.10.9"
  }
 },
 "nbformat": 4,
 "nbformat_minor": 5
}
