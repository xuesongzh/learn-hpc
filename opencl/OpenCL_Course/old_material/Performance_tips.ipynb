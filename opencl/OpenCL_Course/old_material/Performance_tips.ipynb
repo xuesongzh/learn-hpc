{
 "cells": [
  {
   "cell_type": "markdown",
   "metadata": {},
   "source": [
    "# General performance tips and tricks\n",
    "\n",
    "There are a number of general performance guidelines that are worth mentioning when building OpenCL applications.\n",
    "\n",
    "* Leave memory on the device for as long as possible, and transfer as little as possible to the device\n",
    "\n",
    "Often memory is transferred over the PCI express bus when moving memory to and from OpenCL devices. If you can arrange your algorithm to move as little information between buffers as possible this will help speedup compute.\n",
    "\n",
    "* Use asynchronous memory transfers to hide IO\n",
    "\n",
    "When the execution of a kernel takes up more time than the time taken to transfer IO then you can get a useful performance speedup by using another command queue to perform IO while a command queue is busy with a computation.\n",
    "\n",
    "* Design the number of work items to fit the architecture.\n",
    "\n",
    "GPU's prefer large number of work items (in the thousands), CPU's prefer small numbers of work items (in the tens to hundreds).\n",
    "\n",
    "* Use pinned memory\n",
    "\n",
    "Using the CL_MEM_ALLOC_HOST_PTR flag in **clCreateBuffer** creates a buffer whose memory is allocated using pinned memory. This enables fast transfers using direct memory access between main memory and the device.\n",
    "\n",
    "\n",
    "## Asynchronous Memory transfers\n",
    "\n",
    "## Using Pinned memory\n",
    "\n",
    "## Vector data types\n",
    "\n",
    "## Optimal local sizes\n",
    "\n",
    "1. Find point where time is linear with number of cells\n",
    "2. Transpose the matrix\n",
    "3. Run separate parts of the program with different devices\n",
    "4. Tune the local size\n",
    "\n",
    "\n",
    "* Asynchronous transfers\n",
    "* Vector data types\n",
    "* Local size\n"
   ]
  },
  {
   "cell_type": "markdown",
   "metadata": {},
   "source": [
    "<address>\n",
    "&copy; 2018 by Dr. Toby Potter<br>\n",
    "email: <a href=\"mailto:tobympotter@gmail.com\">tobympotter@gmail.com</a><br>\n",
    "Visit us at: <a href=\"https://www.pelagos-consulting.com\">www.pelagos-consulting.com</a><br>\n",
    "</address>"
   ]
  }
 ],
 "metadata": {
  "kernelspec": {
   "display_name": "Python 3 (ipykernel)",
   "language": "python",
   "name": "python3"
  },
  "language_info": {
   "codemirror_mode": {
    "name": "ipython",
    "version": 3
   },
   "file_extension": ".py",
   "mimetype": "text/x-python",
   "name": "python",
   "nbconvert_exporter": "python",
   "pygments_lexer": "ipython3",
   "version": "3.8.5"
  }
 },
 "nbformat": 4,
 "nbformat_minor": 4
}
