{
 "cells": [
  {
   "cell_type": "markdown",
   "metadata": {},
   "source": [
    "# Setting up the environment\n",
    "\n",
    "OpenCL is implemented as a C/C++ software library, and there are only three things you need to do in your C/C++ application to get it working:\n",
    "\n",
    "1. Install the OpenCL libary and driver\n",
    "2. Setup the compiler to link application with the OpenCL library\n",
    "3. Include the OpenCL header file in the application\n",
    "\n",
    "The OpenCL library contains the OpenCL functions that you will call during program execution. It contains header files and shared library files. The header files are called **cl.h** and **cl.hpp**, and your compiler must know the location of the *folder* that they reside. The header files are for functions that are part of the OpenCL library, and hence your compiler must also be informed as to where the OpenCL library is located. \n",
    "\n",
    "## Installing the library\n",
    "\n",
    "A number of different vendors have OpenCL drivers and SDK's ready for download. You need to follow their instructions to get your OpenCL drivers installed. Here are some links to mainstream OpenCL distributions.\n",
    "\n",
    "* **AMD** [OpenCL Zone](https://developer.amd.com/tools-and-sdks/opencl-zone)\n",
    "* **Intel** [OpenCL SDK](https://software.intel.com/en-us/intel-opencl)\n",
    "* **NVIDIA** [NVIDIA OpenCL Examples](https://developer.nvidia.com/opencl)\n",
    "* **Apple** [OpenCL for macOS](https://developer.apple.com/opencl/)\n",
    "\n",
    "For Windows and Linux users, OpenCL support comes with CUDA so you don't need to install anything extra other than CUDA. For macOS users OpenCL has been bundled with the operating system since the release of OSX Snow Leopard.\n",
    "\n",
    "\n",
    "## Linux and Unix-specific compilation instructions\n",
    "\n",
    "You can tell the compiler where your header files are by adding the compiler flag **-I/path/to/OpenCL/header_folder** when compiling your C/C++ application. The OpenCL library is a file called **libOpenCL.so**. Find the location of that file and add it to your compiler using the **-L/path/to/OpenCL_library_folder** compiler flag. You also need to then link with the OpenCL libary dispatcher using the **-lOpenCL** flag. For example, using the NVIDIA OpenCL library and the **g++** compiler we issue the following commands:\n",
    "\n",
    "```bash\n",
    "# Compile first\n",
    "g++ -c -g -O0 -fPIC -I/usr/local/cuda/include -std=c++11 -o mat_mult_cl.o mat_mult_cl.cpp\n",
    "\n",
    "# Then link\n",
    "g++ -g -L/usr/local/cuda/lib64 -lOpenCL -lstdc++ -o mat_mult_cl mat_mult_cl.o\n",
    "```\n",
    "\n",
    "To help with compilation on Linux/Unix a [Makefile](code/Makefile) has been included in the code directory.\n",
    "\n",
    "\n",
    "## Windows-specific compilation instructions\n",
    "\n",
    "With Visual Studio you add the location of the OpenCL header and library files to Visual Studio preferences, [this site](https://streamhpc.com/blog/2015-03-16/how-to-install-opencl-on-windows) shows how to do it on Windows.\n",
    "\n",
    "## MacOS-specific compilation instructions\n",
    "\n",
    "If you use the Xcode GUI, you can make a console application that uses OpenCL. Firstly you make an empty project then create a *target* for a console application. In the *build phases* tab under *Link Binary With Libraries* you can search for the OpenCL framework and add it to project. Then you add a *kernels.cl* file to the target folder.\n",
    "\n",
    "<figure style=\"float:center\">\n",
    "    <img style=\"display:inline-block; vertical-align:top; margin:20px\" src=\"images/build_phases.png\" width=\"95%\">\n",
    "    <figcaption style= \"text-align:lower; margin:2px; float:bottom; vertical-align:bottom\">Figure: Creating an OpenCL project with Xcode </figcaption>\n",
    "</figure>\n",
    "\n",
    "This [page](https://developer.apple.com/library/content/documentation/Performance/Conceptual/OpenCL_MacProgGuide/XCodeHelloWorld/XCodeHelloWorld.html#//apple_ref/doc/uid/TP40008312-CH10-SW1) shows how to make an OpenCL application and this [page](https://stackoverflow.com/questions/3352664/how-to-add-existing-frameworks-in-xcode-4) shows how to add a framework to Xcode. If all else fails you can use the MacOS *Makefile* in the [code](code) folder of the course material."
   ]
  },
  {
   "cell_type": "markdown",
   "metadata": {
    "collapsed": true
   },
   "source": [
    "<address>\n",
    "&copy; 2018 by Dr. Toby Potter<br>\n",
    "email: <a href=\"mailto:tobympotter@gmail.com\">tobympotter@gmail.com</a><br>\n",
    "Visit us at: <a href=\"https://www.pelagos-consulting.com\">www.pelagos-consulting.com</a><br>\n",
    "</address>"
   ]
  }
 ],
 "metadata": {
  "kernelspec": {
   "display_name": "Python 3",
   "language": "python",
   "name": "python3"
  },
  "language_info": {
   "codemirror_mode": {
    "name": "ipython",
    "version": 3
   },
   "file_extension": ".py",
   "mimetype": "text/x-python",
   "name": "python",
   "nbconvert_exporter": "python",
   "pygments_lexer": "ipython3",
   "version": "3.8.5"
  }
 },
 "nbformat": 4,
 "nbformat_minor": 2
}
